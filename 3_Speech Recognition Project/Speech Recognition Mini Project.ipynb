{
 "cells": [
  {
   "cell_type": "markdown",
   "id": "692eaf21",
   "metadata": {},
   "source": [
    "## The Speech Recognition Project\n",
    "\n",
    "We use the \"speech_recognition\" library of Python and make a simple miniproject which is pretty effective if you take a look at the output below. It was a simple mini project that I tried executing. "
   ]
  },
  {
   "cell_type": "code",
   "execution_count": 3,
   "id": "e76d1e1d",
   "metadata": {},
   "outputs": [],
   "source": [
    "import speech_recognition"
   ]
  },
  {
   "cell_type": "code",
   "execution_count": 8,
   "id": "c51c1852",
   "metadata": {},
   "outputs": [],
   "source": [
    "\n",
    "def record_voice():\n",
    "    mic = speech_recognition.Recognizer()\n",
    "    with speech_recognition.Microphone() as live_phone:\n",
    "        mic.adjust_for_ambient_noise(live_phone)\n",
    "        \n",
    "        print('I am trying to hear you')\n",
    "        audio = mic.listen(live_phone)\n",
    "        \n",
    "        try:\n",
    "            phrase = mic.recognize_google(audio, language='english')\n",
    "            return phrase\n",
    "        except speech_recognition.UnknownValueError:\n",
    "            return 'Sorry! unable to understand you'"
   ]
  },
  {
   "cell_type": "code",
   "execution_count": 7,
   "id": "21e1f616",
   "metadata": {},
   "outputs": [
    {
     "name": "stdout",
     "output_type": "stream",
     "text": [
      "I am trying to hear you\n",
      "result2:\n",
      "{   'alternative': [   {   'confidence': 0.97219545,\n",
      "                           'transcript': 'hello what is your name'}],\n",
      "    'final': True}\n",
      "The last sentence you spoke is saved\n"
     ]
    }
   ],
   "source": [
    "if __name__=='__main__':\n",
    "    phrase = record_voice()\n",
    "    \n",
    "    with open('recorder_text.txt','w') as file:\n",
    "        file.write(phrase)\n",
    "    \n",
    "    print('The last sentence you spoke is saved')"
   ]
  },
  {
   "cell_type": "code",
   "execution_count": null,
   "id": "40a26598",
   "metadata": {},
   "outputs": [],
   "source": []
  }
 ],
 "metadata": {
  "kernelspec": {
   "display_name": "Python 3 (ipykernel)",
   "language": "python",
   "name": "python3"
  },
  "language_info": {
   "codemirror_mode": {
    "name": "ipython",
    "version": 3
   },
   "file_extension": ".py",
   "mimetype": "text/x-python",
   "name": "python",
   "nbconvert_exporter": "python",
   "pygments_lexer": "ipython3",
   "version": "3.9.12"
  }
 },
 "nbformat": 4,
 "nbformat_minor": 5
}
